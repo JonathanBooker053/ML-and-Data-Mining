{
  "cells": [
    {
      "cell_type": "markdown",
      "metadata": {
        "id": "6WZsJE6InQvH"
      },
      "source": [
        "# Project 1: Kaggle\n",
        "\n",
        "Jonathan Booker, Maxwell Montemayor, Lucas Ancieta, Abraham Belayneh"
      ]
    },
    {
      "cell_type": "code",
      "execution_count": null,
      "metadata": {
        "id": "pRd994oKnQvI"
      },
      "outputs": [],
      "source": [
        "import numpy as np\n",
        "import matplotlib.pyplot as plt\n",
        "%matplotlib inline\n",
        "\n",
        "import torch\n",
        "import torch.nn as nn\n",
        "import torch.nn.functional as F\n",
        "import pandas as pd\n",
        "from torch.utils.data import TensorDataset, Dataset, DataLoader\n",
        "from sklearn.model_selection import train_test_split"
      ]
    },
    {
      "cell_type": "markdown",
      "metadata": {
        "id": "Gaw4suz_49nL"
      },
      "source": [
        "# Data Proccessing\n",
        "\n",
        "- We first filter out any data points with Nan.\n",
        "- Then, we normalize every feature.\n",
        "- Split the test and train data randomly into tensors.\n"
      ]
    },
    {
      "cell_type": "code",
      "execution_count": null,
      "metadata": {
        "colab": {
          "base_uri": "https://localhost:8080/"
        },
        "id": "T8ui5hmKnQvJ",
        "outputId": "326adc56-f620-43b8-a55a-87bdec6fccd7"
      },
      "outputs": [],
      "source": [
        "df = pd.read_csv('https://raw.githubusercontent.com/L-anc/Motility/main/code/out.csv')\n",
        "\n",
        "df = df.replace('',np.nan)\n",
        "df = df.dropna(axis=\"rows\", how=\"any\")\n",
        "df = df.drop(columns= \"uid\")\n",
        "\n",
        "df_X = df.drop(columns= \"label\")\n",
        "for col in df_X:\n",
        "    df_X[col] = [(element - np.mean(df_X[col])) / np.std(df_X[col]) for element in df_X[col]]\n",
        "print(\"===dataframe=== \\n {}\".format(df))\n",
        "X = np.array(df_X)\n",
        "y = np.array(df[\"label\"])\n",
        "\n",
        "# def normalize(x):\n",
        "#     x = np.asarray(x)\n",
        "#     return (x - x.min()) / (np.ptp(x))\n",
        "# X_normed = []\n",
        "# for i in range(0, len(X)):\n",
        "#     X_normed.append(X[i])\n",
        "# # X = (X - X.mean())/(X.std())\n",
        "# print(\" - NORMALIZED  X \\n {} - \".format(X))\n",
        "\n",
        "\n",
        "train_X, test_X, train_y, test_y = train_test_split(X, y, test_size=0.2)\n",
        "# print(\" pre TRAIN X \\n {}\".format(train_X))\n",
        "\n",
        "train_X = torch.tensor(train_X, dtype=torch.float32)\n",
        "# print(\"TENSOR  X \\n {}\".format(train_X))\n",
        "train_y = torch.tensor(train_y, dtype=torch.long)\n",
        "# 80/20 x values as floats\n",
        "test_X = torch.tensor(test_X, dtype=torch.float32)\n",
        "test_y = torch.tensor(test_y, dtype=torch.long)\n",
        "print(\"test_x torch tensor {}\".format(test_X))\n",
        "print(\"test_x torch tensor shape {}\".format(test_X.shape))\n",
        "\n",
        "train_dataset = TensorDataset(train_X, train_y)\n",
        "test_dataset = TensorDataset(test_X, test_y)\n",
        "\n",
        "train_loader = torch.utils.data.DataLoader(train_dataset, batch_size=32, shuffle=True)\n",
        "test_loader = torch.utils.data.DataLoader(test_dataset, batch_size=32, shuffle=True)\n",
        "\n",
        "print (\"x \\n{}\".format(df))\n",
        "print (\"y \\n{}\".format(df))\n",
        "\n",
        "# x_train = torch.tensor(train[['chi','lin_reg','lin_reg_chi','stddev_step_speed']].copy().to_numpy(), dtype=torch.float32)\n",
        "# y_train = torch.tensor(train['label'].copy().to_numpy(), dtype=torch.long)\n",
        "# x_test = torch.tensor(train[['chi','lin_reg','lin_reg_chi','stddev_step_speed']].copy().to_numpy(), dtype=torch.float32)\n",
        "# y_test = torch.tensor(train['label'].copy().to_numpy(), dtype=torch.long)\n",
        "# train_dataset = TensorDataset(x_train, y_train)\n",
        "# test_dataset = TensorDataset(x_test, y_test)"
      ]
    },
    {
      "cell_type": "markdown",
      "metadata": {
        "id": "x0VSOS2TnQvL"
      },
      "source": [
        "## Network Definition\n",
        "Let's instantiate a model and take a look at the layers."
      ]
    },
    {
      "cell_type": "code",
      "execution_count": null,
      "metadata": {
        "colab": {
          "base_uri": "https://localhost:8080/"
        },
        "id": "NT73uPcbnQvL",
        "outputId": "32674e47-92a5-48f6-a77c-482f8ad76f90",
        "scrolled": false
      },
      "outputs": [],
      "source": [
        "model = nn.Sequential(\n",
        "    nn.Linear(4, 8),\n",
        "    nn.ReLU(),\n",
        "    nn.Linear(8, 5),\n",
        "    nn.ReLU(),\n",
        "    nn.Linear(5, 2),\n",
        "    nn.Sigmoid(),\n",
        "\n",
        ")\n",
        "optimizer = torch.optim.Adam(model.parameters(), lr=2.4e-4)\n",
        "# loss_fn = nn.BCELoss()\n",
        "loss_fn = nn.CrossEntropyLoss()\n",
        "\n",
        "torch.manual_seed(15552494823729223621)"
      ]
    },
    {
      "cell_type": "markdown",
      "metadata": {
        "id": "vkzr6hvjnQvM"
      },
      "source": [
        "## Training\n",
        "We also choose an optimizer and a loss function."
      ]
    },
    {
      "cell_type": "markdown",
      "metadata": {
        "id": "YLaXzBQjnQvM"
      },
      "source": [
        "We could write our training procedure manually and directly index the `Dataset` objects, but the `DataLoader` object conveniently creates an iterable for automatically creating random minibatches:"
      ]
    },
    {
      "cell_type": "markdown",
      "metadata": {
        "id": "6EJRa6ndnQvM"
      },
      "source": [
        "We now write our backpropagation loop, training for 10 epochs."
      ]
    },
    {
      "cell_type": "code",
      "execution_count": null,
      "metadata": {
        "colab": {
          "base_uri": "https://localhost:8080/"
        },
        "id": "8O3-pMlInQvM",
        "outputId": "fe791a45-cfa4-4501-de80-fd32a59b7b78"
      },
      "outputs": [],
      "source": [
        "model.train()\n",
        "train_correct = 0\n",
        "train_total = 0\n",
        "train_acc = []\n",
        "for epoch in range(10):\n",
        "    for batch_idx, (data, target) in enumerate(train_loader):\n",
        "        # Erase accumulated gradients\n",
        "        optimizer.zero_grad()\n",
        "\n",
        "        # Forward pass\n",
        "        output = model(data)\n",
        "\n",
        "        # Calculate loss\n",
        "        loss = loss_fn(output, target)\n",
        "\n",
        "        # Backward pass\n",
        "        loss.backward()\n",
        "\n",
        "        # Weight update\n",
        "        optimizer.step()\n",
        "        _, predicted = torch.max(output.data, 1)\n",
        "        train_total += target.size(0)\n",
        "        train_correct += (predicted == target).sum().item()\n",
        "        train_acc.append(train_correct/train_total)\n",
        "    # Track loss each epoch\n",
        "    print('Train Epoch: %d  Loss: %.4f' % (epoch + 1,  loss.item()))"
      ]
    },
    {
      "cell_type": "markdown",
      "metadata": {
        "id": "G4p-4iZDnQvN"
      },
      "source": [
        "## Testing\n",
        "We can perform forward passes through the network without saving gradients."
      ]
    },
    {
      "cell_type": "code",
      "execution_count": null,
      "metadata": {
        "colab": {
          "base_uri": "https://localhost:8080/"
        },
        "id": "jGzLHGFfnQvN",
        "outputId": "283a3017-806f-4c5b-c226-a95a754cc735"
      },
      "outputs": [],
      "source": [
        "# Putting layers like Dropout into evaluation mode\n",
        "model.eval()\n",
        "\n",
        "test_loss = 0\n",
        "correct = 0\n",
        "# Turning off automatic differentiation\n",
        "with torch.no_grad():\n",
        "    for data, target in test_loader:\n",
        "        output = model(data)\n",
        "        test_loss += loss_fn(output, target).item()  # Sum up batch loss\n",
        "        pred = output.argmax(dim=1, keepdim=True)  # Get the index of the max class score\n",
        "        correct += pred.eq(target.view_as(pred)).sum().item()\n",
        "\n",
        "test_loss /= len(test_loader.dataset)\n",
        "# print(valid_set)\n",
        "print('Test set: Average loss: %.4f, Accuracy : %d/%d (%.4f)' %\n",
        "      (test_loss, correct, len(test_loader.dataset),\n",
        "       100. * correct / len(test_loader.dataset)))"
      ]
    },
    {
      "cell_type": "code",
      "execution_count": null,
      "metadata": {
        "colab": {
          "base_uri": "https://localhost:8080/"
        },
        "id": "vx8mlXAQ1rpP",
        "outputId": "ce321056-1f2a-407a-d375-1dba07a78632"
      },
      "outputs": [],
      "source": [
        "#   REAL TESTING\n",
        "test = pd.read_csv('https://raw.githubusercontent.com/L-anc/Motility/main/code/test.csv')\n",
        "\n",
        "df_vals = test.drop(columns= \"uid\")\n",
        "for col in df_vals:\n",
        "    df_vals[col] = [(element - np.mean(df_vals[col])) / np.std(df_vals[col]) for element in df_vals[col]]\n",
        "\n",
        "test_X = np.array(df_vals)\n",
        "test_X = torch.tensor(test_X, dtype=torch.float32)\n",
        "\n",
        "\n",
        "\n"
      ]
    },
    {
      "cell_type": "code",
      "execution_count": null,
      "metadata": {
        "colab": {
          "base_uri": "https://localhost:8080/"
        },
        "id": "DHerD_wv1rpQ",
        "outputId": "f966560b-d996-4c71-b180-ae6283b1d277"
      },
      "outputs": [],
      "source": [
        "output = model(test_X)\n",
        "pred = output.argmax(dim=1, keepdim=True)\n",
        "\n",
        "pred = np.array(pred)\n",
        "print(pred)\n",
        "submission = pd.DataFrame(columns=['UID', 'label'])\n",
        "submission['UID'] = test['uid']\n",
        "submission['label'] = pred\n",
        "print(submission)\n",
        "\n",
        "submission.to_csv('submission.csv', index=False)"
      ]
    },
    {
      "cell_type": "code",
      "execution_count": null,
      "metadata": {
        "colab": {
          "base_uri": "https://localhost:8080/",
          "height": 320
        },
        "id": "IKop7Y6LjEdY",
        "outputId": "89019974-446e-48af-d731-ef6cd0be0681"
      },
      "outputs": [],
      "source": [
        "plt.figure(figsize=(10, 5))\n",
        "plt.plot(train_acc, label='Test loss')\n",
        "plt.legend()\n",
        "plt.show()"
      ]
    }
  ],
  "metadata": {
    "accelerator": "GPU",
    "colab": {
      "provenance": []
    },
    "gpuClass": "standard",
    "kernelspec": {
      "display_name": ".venv",
      "language": "python",
      "name": "python3"
    },
    "language_info": {
      "codemirror_mode": {
        "name": "ipython",
        "version": 3
      },
      "file_extension": ".py",
      "mimetype": "text/x-python",
      "name": "python",
      "nbconvert_exporter": "python",
      "pygments_lexer": "ipython3",
      "version": "3.11.0"
    }
  },
  "nbformat": 4,
  "nbformat_minor": 0
}
